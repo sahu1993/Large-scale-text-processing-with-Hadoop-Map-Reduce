{
 "cells": [
  {
   "cell_type": "code",
   "execution_count": 18,
   "metadata": {},
   "outputs": [
    {
     "name": "stderr",
     "output_type": "stream",
     "text": [
      "Searching for tweets...\n",
      "Finished collecting tweets!\n"
     ]
    },
    {
     "data": {
      "text/html": [
       "<ol class=list-inline>\n",
       "\t<li>'This is what I’m talking about! #DACA https://t.co/IlbKpAlbFi'</li>\n",
       "\t<li>'When Latino immigrants that became American citizens by following the letter and rule of law begin to stand up and demand the same of those illegal immigrants asking for sanctuary or #DACA status you know @TheDemocrats are out of touch with reality. #IllegalAliens https://t.co/BvV4TtnELO'</li>\n",
       "\t<li>'@KamalaHarris Meanwhile back in reality &amp;amp; #DACA aged groups moving towards America https://t.co/6U44e8A5E1'</li>\n",
       "\t<li>'@kdeleon @realDonaldTrump @JerryBrownGov Things traitors say for 100 Alex #RealAmericansJeopardy \\nMeanwhile back in the real world &amp;amp; #DACA aged mobs moving towards the U.S. https://t.co/6U44e8A5E1'</li>\n",
       "\t<li>'https://t.co/ZigeMyvk7o (5 abril 2018)[#Trump y la Guardia Nacional en la frontera con #Mexico] \\U0001f1f2\\U0001f1fd \\U0001f1fa\\U0001f1f8 For full video; https://t.co/ONkfo97AgH #BorderWall #POTUS #DREAMERS #DACA https://t.co/hlk7hPlOQA'</li>\n",
       "\t<li>'https://t.co/ZigeMyvk7o (5 abril 2018)[#Trump y la Guardia Nacional en la frontera con #Mexico] \\U0001f1f2\\U0001f1fd \\U0001f1fa\\U0001f1f8 For full video; https://t.co/ONkfo97AgH #BorderWall #POTUS #DREAMERS #DACA https://t.co/SOObAHJMmD'</li>\n",
       "</ol>\n"
      ],
      "text/latex": [
       "\\begin{enumerate*}\n",
       "\\item 'This is what I’m talking about! \\#DACA https://t.co/IlbKpAlbFi'\n",
       "\\item 'When Latino immigrants that became American citizens by following the letter and rule of law begin to stand up and demand the same of those illegal immigrants asking for sanctuary or \\#DACA status you know @TheDemocrats are out of touch with reality. \\#IllegalAliens https://t.co/BvV4TtnELO'\n",
       "\\item '@KamalaHarris Meanwhile back in reality \\&amp; \\#DACA aged groups moving towards America https://t.co/6U44e8A5E1'\n",
       "\\item '@kdeleon @realDonaldTrump @JerryBrownGov Things traitors say for 100 Alex \\#RealAmericansJeopardy \\textbackslash{}nMeanwhile back in the real world \\&amp; \\#DACA aged mobs moving towards the U.S. https://t.co/6U44e8A5E1'\n",
       "\\item 'https://t.co/ZigeMyvk7o (5 abril 2018){[}\\#Trump y la Guardia Nacional en la frontera con \\#Mexico{]} \\textbackslash{}U0001f1f2\\textbackslash{}U0001f1fd \\textbackslash{}U0001f1fa\\textbackslash{}U0001f1f8 For full video; https://t.co/ONkfo97AgH \\#BorderWall \\#POTUS \\#DREAMERS \\#DACA https://t.co/hlk7hPlOQA'\n",
       "\\item 'https://t.co/ZigeMyvk7o (5 abril 2018){[}\\#Trump y la Guardia Nacional en la frontera con \\#Mexico{]} \\textbackslash{}U0001f1f2\\textbackslash{}U0001f1fd \\textbackslash{}U0001f1fa\\textbackslash{}U0001f1f8 For full video; https://t.co/ONkfo97AgH \\#BorderWall \\#POTUS \\#DREAMERS \\#DACA https://t.co/SOObAHJMmD'\n",
       "\\end{enumerate*}\n"
      ],
      "text/markdown": [
       "1. 'This is what I’m talking about! #DACA https://t.co/IlbKpAlbFi'\n",
       "2. 'When Latino immigrants that became American citizens by following the letter and rule of law begin to stand up and demand the same of those illegal immigrants asking for sanctuary or #DACA status you know @TheDemocrats are out of touch with reality. #IllegalAliens https://t.co/BvV4TtnELO'\n",
       "3. '@KamalaHarris Meanwhile back in reality &amp;amp; #DACA aged groups moving towards America https://t.co/6U44e8A5E1'\n",
       "4. '@kdeleon @realDonaldTrump @JerryBrownGov Things traitors say for 100 Alex #RealAmericansJeopardy \\nMeanwhile back in the real world &amp;amp; #DACA aged mobs moving towards the U.S. https://t.co/6U44e8A5E1'\n",
       "5. 'https://t.co/ZigeMyvk7o (5 abril 2018)[#Trump y la Guardia Nacional en la frontera con #Mexico] \\U0001f1f2\\U0001f1fd \\U0001f1fa\\U0001f1f8 For full video; https://t.co/ONkfo97AgH #BorderWall #POTUS #DREAMERS #DACA https://t.co/hlk7hPlOQA'\n",
       "6. 'https://t.co/ZigeMyvk7o (5 abril 2018)[#Trump y la Guardia Nacional en la frontera con #Mexico] \\U0001f1f2\\U0001f1fd \\U0001f1fa\\U0001f1f8 For full video; https://t.co/ONkfo97AgH #BorderWall #POTUS #DREAMERS #DACA https://t.co/SOObAHJMmD'\n",
       "\n",
       "\n"
      ],
      "text/plain": [
       "[1] \"This is what I’m talking about! #DACA https://t.co/IlbKpAlbFi\"                                                                                                                                                                                                                                   \n",
       "[2] \"When Latino immigrants that became American citizens by following the letter and rule of law begin to stand up and demand the same of those illegal immigrants asking for sanctuary or #DACA status you know @TheDemocrats are out of touch with reality. #IllegalAliens https://t.co/BvV4TtnELO\"\n",
       "[3] \"@KamalaHarris Meanwhile back in reality &amp; #DACA aged groups moving towards America https://t.co/6U44e8A5E1\"                                                                                                                                                                                  \n",
       "[4] \"@kdeleon @realDonaldTrump @JerryBrownGov Things traitors say for 100 Alex #RealAmericansJeopardy \\nMeanwhile back in the real world &amp; #DACA aged mobs moving towards the U.S. https://t.co/6U44e8A5E1\"                                                                                       \n",
       "[5] \"https://t.co/ZigeMyvk7o (5 abril 2018)[#Trump y la Guardia Nacional en la frontera con #Mexico] \\U0001f1f2\\U0001f1fd \\U0001f1fa\\U0001f1f8 For full video; https://t.co/ONkfo97AgH #BorderWall #POTUS #DREAMERS #DACA https://t.co/hlk7hPlOQA\"                                                    \n",
       "[6] \"https://t.co/ZigeMyvk7o (5 abril 2018)[#Trump y la Guardia Nacional en la frontera con #Mexico] \\U0001f1f2\\U0001f1fd \\U0001f1fa\\U0001f1f8 For full video; https://t.co/ONkfo97AgH #BorderWall #POTUS #DREAMERS #DACA https://t.co/SOObAHJMmD\"                                                    "
      ]
     },
     "metadata": {},
     "output_type": "display_data"
    },
    {
     "data": {
      "text/html": [
       "4567"
      ],
      "text/latex": [
       "4567"
      ],
      "text/markdown": [
       "4567"
      ],
      "text/plain": [
       "[1] 4567"
      ]
     },
     "metadata": {},
     "output_type": "display_data"
    }
   ],
   "source": [
    "#Name - Shivam Sahu\n",
    "#team member’s Name - N/A\n",
    "\n",
    "#install.packages(\"rtweet\")\n",
    "#file.remove(\".httr-oauth\")\n",
    "library(rtweet)\n",
    "daca <- search_tweets(\"#DACA\", n = 5000, include_rts = FALSE)\n",
    "head(daca$text)\n",
    "nrow(daca)\n",
    "write(daca$text, file = \"Twitter_Daca.txt\", append = FALSE, sep = \" \")"
   ]
  },
  {
   "cell_type": "code",
   "execution_count": 20,
   "metadata": {},
   "outputs": [
    {
     "name": "stderr",
     "output_type": "stream",
     "text": [
      "Searching for tweets...\n",
      "Finished collecting tweets!\n"
     ]
    },
    {
     "data": {
      "text/html": [
       "<ol class=list-inline>\n",
       "\t<li>'#Immigration : si seulement on avait #DonaldTrump en France ! Trump mobilise tous azimuts https://t.co/VplxKm7Ixk via @Le_Figaro'</li>\n",
       "\t<li><span style=white-space:pre-wrap>'Minister urges Australia to provide visa for Nepalis from Nepal itself https://t.co/nTG8aekEuF  #immigration #college #education'</span></li>\n",
       "\t<li>'Is there anything unusual or special about #Italy that #privateclients considering #relocation should know? https://t.co/C9Me1JFmw2 #law #investment #immigration #EU #Startup'</li>\n",
       "\t<li>'Bespoke immigration services for top talent in Italy – inquiry@damienofarrell.com #globalmobility #immigration #Italy #china #india #USA #Russia https://t.co/0PAZgIqUk6'</li>\n",
       "\t<li>'#Immigration SA will be implementing a major upgrade to online application system next week. \\n• Applications currently in progress need to be completed and submitted before Monday 9 April 2018.\\nRead More: https://t.co/0OuA6eNPoS\\n#Australia #SouthAustralia https://t.co/ySjfRTwpYX'</li>\n",
       "\t<li><span style=white-space:pre-wrap>'https://t.co/BU3TxyRN2m  #www.amplifysystems.com #H4EAD #GC-EAD #GreenCard  #USCitizens #OPT-EAD #TN-VISA #h1bvisa #H1B #USAJobs #H1filing #Java  #Developer #dotnet #USvisa #Hiring #ITJobs #USJobs #ITJobs #immigration  #Citizenship #itproject #softwaredevelopment #AmplifySystems https://t.co/0nf8iBr1Ia'</span></li>\n",
       "</ol>\n"
      ],
      "text/latex": [
       "\\begin{enumerate*}\n",
       "\\item '\\#Immigration : si seulement on avait \\#DonaldTrump en France ! Trump mobilise tous azimuts https://t.co/VplxKm7Ixk via @Le\\_Figaro'\n",
       "\\item 'Minister urges Australia to provide visa for Nepalis from Nepal itself https://t.co/nTG8aekEuF  \\#immigration \\#college \\#education'\n",
       "\\item 'Is there anything unusual or special about \\#Italy that \\#privateclients considering \\#relocation should know? https://t.co/C9Me1JFmw2 \\#law \\#investment \\#immigration \\#EU \\#Startup'\n",
       "\\item 'Bespoke immigration services for top talent in Italy – inquiry@damienofarrell.com \\#globalmobility \\#immigration \\#Italy \\#china \\#india \\#USA \\#Russia https://t.co/0PAZgIqUk6'\n",
       "\\item '\\#Immigration SA will be implementing a major upgrade to online application system next week. \\textbackslash{}n• Applications currently in progress need to be completed and submitted before Monday 9 April 2018.\\textbackslash{}nRead More: https://t.co/0OuA6eNPoS\\textbackslash{}n\\#Australia \\#SouthAustralia https://t.co/ySjfRTwpYX'\n",
       "\\item 'https://t.co/BU3TxyRN2m  \\#www.amplifysystems.com \\#H4EAD \\#GC-EAD \\#GreenCard  \\#USCitizens \\#OPT-EAD \\#TN-VISA \\#h1bvisa \\#H1B \\#USAJobs \\#H1filing \\#Java  \\#Developer \\#dotnet \\#USvisa \\#Hiring \\#ITJobs \\#USJobs \\#ITJobs \\#immigration  \\#Citizenship \\#itproject \\#softwaredevelopment \\#AmplifySystems https://t.co/0nf8iBr1Ia'\n",
       "\\end{enumerate*}\n"
      ],
      "text/markdown": [
       "1. '#Immigration : si seulement on avait #DonaldTrump en France ! Trump mobilise tous azimuts https://t.co/VplxKm7Ixk via @Le_Figaro'\n",
       "2. <span style=white-space:pre-wrap>'Minister urges Australia to provide visa for Nepalis from Nepal itself https://t.co/nTG8aekEuF  #immigration #college #education'</span>\n",
       "3. 'Is there anything unusual or special about #Italy that #privateclients considering #relocation should know? https://t.co/C9Me1JFmw2 #law #investment #immigration #EU #Startup'\n",
       "4. 'Bespoke immigration services for top talent in Italy – inquiry@damienofarrell.com #globalmobility #immigration #Italy #china #india #USA #Russia https://t.co/0PAZgIqUk6'\n",
       "5. '#Immigration SA will be implementing a major upgrade to online application system next week. \\n• Applications currently in progress need to be completed and submitted before Monday 9 April 2018.\\nRead More: https://t.co/0OuA6eNPoS\\n#Australia #SouthAustralia https://t.co/ySjfRTwpYX'\n",
       "6. <span style=white-space:pre-wrap>'https://t.co/BU3TxyRN2m  #www.amplifysystems.com #H4EAD #GC-EAD #GreenCard  #USCitizens #OPT-EAD #TN-VISA #h1bvisa #H1B #USAJobs #H1filing #Java  #Developer #dotnet #USvisa #Hiring #ITJobs #USJobs #ITJobs #immigration  #Citizenship #itproject #softwaredevelopment #AmplifySystems https://t.co/0nf8iBr1Ia'</span>\n",
       "\n",
       "\n"
      ],
      "text/plain": [
       "[1] \"#Immigration : si seulement on avait #DonaldTrump en France ! Trump mobilise tous azimuts https://t.co/VplxKm7Ixk via @Le_Figaro\"                                                                                                                                                                               \n",
       "[2] \"Minister urges Australia to provide visa for Nepalis from Nepal itself https://t.co/nTG8aekEuF  #immigration #college #education\"                                                                                                                                                                               \n",
       "[3] \"Is there anything unusual or special about #Italy that #privateclients considering #relocation should know? https://t.co/C9Me1JFmw2 #law #investment #immigration #EU #Startup\"                                                                                                                                 \n",
       "[4] \"Bespoke immigration services for top talent in Italy – inquiry@damienofarrell.com #globalmobility #immigration #Italy #china #india #USA #Russia https://t.co/0PAZgIqUk6\"                                                                                                                                       \n",
       "[5] \"#Immigration SA will be implementing a major upgrade to online application system next week. \\n• Applications currently in progress need to be completed and submitted before Monday 9 April 2018.\\nRead More: https://t.co/0OuA6eNPoS\\n#Australia #SouthAustralia https://t.co/ySjfRTwpYX\"                     \n",
       "[6] \"https://t.co/BU3TxyRN2m  #www.amplifysystems.com #H4EAD #GC-EAD #GreenCard  #USCitizens #OPT-EAD #TN-VISA #h1bvisa #H1B #USAJobs #H1filing #Java  #Developer #dotnet #USvisa #Hiring #ITJobs #USJobs #ITJobs #immigration  #Citizenship #itproject #softwaredevelopment #AmplifySystems https://t.co/0nf8iBr1Ia\""
      ]
     },
     "metadata": {},
     "output_type": "display_data"
    },
    {
     "data": {
      "text/html": [
       "4768"
      ],
      "text/latex": [
       "4768"
      ],
      "text/markdown": [
       "4768"
      ],
      "text/plain": [
       "[1] 4768"
      ]
     },
     "metadata": {},
     "output_type": "display_data"
    }
   ],
   "source": [
    "#install.packages(\"rtweet\")\n",
    "#file.remove(\".httr-oauth\")\n",
    "library(rtweet)\n",
    "immigration <- search_tweets(\"#immigration\", n = 5000, include_rts = FALSE)\n",
    "head(immigration$text)\n",
    "nrow(immigration)\n",
    "write(immigration$text, file = \"Twitter_Immigration.txt\", append = FALSE, sep = \" \")"
   ]
  },
  {
   "cell_type": "code",
   "execution_count": 24,
   "metadata": {},
   "outputs": [
    {
     "name": "stderr",
     "output_type": "stream",
     "text": [
      "Searching for tweets...\n",
      "Finished collecting tweets!\n"
     ]
    },
    {
     "data": {
      "text/html": [
       "<ol class=list-inline>\n",
       "\t<li>'Tiffany #vill gärna #visa #upp sin #kropp https://t.co/blMbq7cKV7'</li>\n",
       "\t<li>'Sorry @SushmaSwaraj ji, Inka Assembly ka #Visa nahi lag paaya https://t.co/wz2EVxwoCj'</li>\n",
       "\t<li>'If you need assistance or support to apply for Spousal Sponsorship Visa in Canada, you may contact the certified and highly experienced ITECH Immigration Consultant in Amritsar. Contact us now:01835018080 or Visit https://t.co/6TqmPscUEM #ielts #studyabroad #best #visa https://t.co/ewqaEKg4vS'</li>\n",
       "\t<li>'(Ayer) ‘#Blackstone se hará con #Hispania para crear un gigante hotelero’; dos años de #Pallete contra la deuda de #Telefónica; el #Gobierno quiere sacar de la caja de las #pensiones 8.000MM€ de gasto, y los #bancos españoles crearán una tarjeta alternativa a #Visa y #MasterCard https://t.co/yimFM8CSxg'</li>\n",
       "\t<li><span style=white-space:pre-wrap>'Did you know, citizens of Ireland can enjoy a #workingholiday #visa in #Slovenia  https://t.co/439otvZd8E P:natgeo https://t.co/AHinZLUvD0'</span></li>\n",
       "\t<li>'#Snuskig 46 årig #kvinna #gillar att #visa #upp musen #offentligt #Gävle https://t.co/CaQPqqYEZW'</li>\n",
       "</ol>\n"
      ],
      "text/latex": [
       "\\begin{enumerate*}\n",
       "\\item 'Tiffany \\#vill gärna \\#visa \\#upp sin \\#kropp https://t.co/blMbq7cKV7'\n",
       "\\item 'Sorry @SushmaSwaraj ji, Inka Assembly ka \\#Visa nahi lag paaya https://t.co/wz2EVxwoCj'\n",
       "\\item 'If you need assistance or support to apply for Spousal Sponsorship Visa in Canada, you may contact the certified and highly experienced ITECH Immigration Consultant in Amritsar. Contact us now:01835018080 or Visit https://t.co/6TqmPscUEM \\#ielts \\#studyabroad \\#best \\#visa https://t.co/ewqaEKg4vS'\n",
       "\\item '(Ayer) ‘\\#Blackstone se hará con \\#Hispania para crear un gigante hotelero’; dos años de \\#Pallete contra la deuda de \\#Telefónica; el \\#Gobierno quiere sacar de la caja de las \\#pensiones 8.000MM€ de gasto, y los \\#bancos españoles crearán una tarjeta alternativa a \\#Visa y \\#MasterCard https://t.co/yimFM8CSxg'\n",
       "\\item 'Did you know, citizens of Ireland can enjoy a \\#workingholiday \\#visa in \\#Slovenia  https://t.co/439otvZd8E P:natgeo https://t.co/AHinZLUvD0'\n",
       "\\item '\\#Snuskig 46 årig \\#kvinna \\#gillar att \\#visa \\#upp musen \\#offentligt \\#Gävle https://t.co/CaQPqqYEZW'\n",
       "\\end{enumerate*}\n"
      ],
      "text/markdown": [
       "1. 'Tiffany #vill gärna #visa #upp sin #kropp https://t.co/blMbq7cKV7'\n",
       "2. 'Sorry @SushmaSwaraj ji, Inka Assembly ka #Visa nahi lag paaya https://t.co/wz2EVxwoCj'\n",
       "3. 'If you need assistance or support to apply for Spousal Sponsorship Visa in Canada, you may contact the certified and highly experienced ITECH Immigration Consultant in Amritsar. Contact us now:01835018080 or Visit https://t.co/6TqmPscUEM #ielts #studyabroad #best #visa https://t.co/ewqaEKg4vS'\n",
       "4. '(Ayer) ‘#Blackstone se hará con #Hispania para crear un gigante hotelero’; dos años de #Pallete contra la deuda de #Telefónica; el #Gobierno quiere sacar de la caja de las #pensiones 8.000MM€ de gasto, y los #bancos españoles crearán una tarjeta alternativa a #Visa y #MasterCard https://t.co/yimFM8CSxg'\n",
       "5. <span style=white-space:pre-wrap>'Did you know, citizens of Ireland can enjoy a #workingholiday #visa in #Slovenia  https://t.co/439otvZd8E P:natgeo https://t.co/AHinZLUvD0'</span>\n",
       "6. '#Snuskig 46 årig #kvinna #gillar att #visa #upp musen #offentligt #Gävle https://t.co/CaQPqqYEZW'\n",
       "\n",
       "\n"
      ],
      "text/plain": [
       "[1] \"Tiffany #vill gärna #visa #upp sin #kropp https://t.co/blMbq7cKV7\"                                                                                                                                                                                                                                              \n",
       "[2] \"Sorry @SushmaSwaraj ji, Inka Assembly ka #Visa nahi lag paaya https://t.co/wz2EVxwoCj\"                                                                                                                                                                                                                          \n",
       "[3] \"If you need assistance or support to apply for Spousal Sponsorship Visa in Canada, you may contact the certified and highly experienced ITECH Immigration Consultant in Amritsar. Contact us now:01835018080 or Visit https://t.co/6TqmPscUEM #ielts #studyabroad #best #visa https://t.co/ewqaEKg4vS\"          \n",
       "[4] \"(Ayer) ‘#Blackstone se hará con #Hispania para crear un gigante hotelero’; dos años de #Pallete contra la deuda de #Telefónica; el #Gobierno quiere sacar de la caja de las #pensiones 8.000MM€ de gasto, y los #bancos españoles crearán una tarjeta alternativa a #Visa y #MasterCard https://t.co/yimFM8CSxg\"\n",
       "[5] \"Did you know, citizens of Ireland can enjoy a #workingholiday #visa in #Slovenia  https://t.co/439otvZd8E P:natgeo https://t.co/AHinZLUvD0\"                                                                                                                                                                     \n",
       "[6] \"#Snuskig 46 årig #kvinna #gillar att #visa #upp musen #offentligt #Gävle https://t.co/CaQPqqYEZW\"                                                                                                                                                                                                               "
      ]
     },
     "metadata": {},
     "output_type": "display_data"
    },
    {
     "data": {
      "text/html": [
       "2722"
      ],
      "text/latex": [
       "2722"
      ],
      "text/markdown": [
       "2722"
      ],
      "text/plain": [
       "[1] 2722"
      ]
     },
     "metadata": {},
     "output_type": "display_data"
    }
   ],
   "source": [
    "#install.packages(\"rtweet\")\n",
    "#file.remove(\".httr-oauth\")\n",
    "library(rtweet)\n",
    "visa <- search_tweets(\"#visa\", n = 5000, include_rts = FALSE)\n",
    "head(visa$text)\n",
    "nrow(visa)\n",
    "write(visa$text, file = \"Twitter_Visa.txt\", append = FALSE, sep = \" \")"
   ]
  },
  {
   "cell_type": "code",
   "execution_count": 26,
   "metadata": {},
   "outputs": [
    {
     "data": {
      "text/html": [
       "<table>\n",
       "<thead><tr><th scope=col>hits</th><th scope=col>offset</th><th scope=col>time</th></tr></thead>\n",
       "<tbody>\n",
       "\t<tr><td>557</td><td>0  </td><td>7  </td></tr>\n",
       "</tbody>\n",
       "</table>\n"
      ],
      "text/latex": [
       "\\begin{tabular}{r|lll}\n",
       " hits & offset & time\\\\\n",
       "\\hline\n",
       "\t 557 & 0   & 7  \\\\\n",
       "\\end{tabular}\n"
      ],
      "text/markdown": [
       "\n",
       "hits | offset | time | \n",
       "|---|\n",
       "| 557 | 0   | 7   | \n",
       "\n",
       "\n"
      ],
      "text/plain": [
       "  hits offset time\n",
       "1 557  0      7   "
      ]
     },
     "metadata": {},
     "output_type": "display_data"
    },
    {
     "data": {
      "text/html": [
       "<table>\n",
       "<thead><tr><th scope=col>DacaData.data.web_url</th></tr></thead>\n",
       "<tbody>\n",
       "\t<tr><td>https://www.nytimes.com/reuters/2018/04/02/us/politics/02reuters-usa-trump-tweet-factbox.html          </td></tr>\n",
       "\t<tr><td>https://www.nytimes.com/reuters/2018/04/01/us/politics/01reuters-usa-trump-tweet-factbox.html          </td></tr>\n",
       "\t<tr><td>https://www.nytimes.com/reuters/2018/04/01/world/americas/01reuters-usa-immigration.html               </td></tr>\n",
       "\t<tr><td>https://www.nytimes.com/reuters/2018/04/02/world/americas/02reuters-usa-immigration-daca-explainer.html</td></tr>\n",
       "\t<tr><td>https://www.nytimes.com/reuters/2018/04/02/us/politics/02reuters-usa-trump-mexico.html                 </td></tr>\n",
       "\t<tr><td>https://www.nytimes.com/reuters/2018/04/02/world/americas/02reuters-usa-immigration-trump.html         </td></tr>\n",
       "\t<tr><td>https://www.nytimes.com/2018/04/01/us/politics/trump-immigration-daca.html                             </td></tr>\n",
       "\t<tr><td>https://www.nytimes.com/2018/02/13/us/politics/trump-twitter-daca-infrastructure.html                  </td></tr>\n",
       "\t<tr><td>https://www.nytimes.com/2018/03/29/nyregion/daca-lawsuit-trump-brooklyn.html                           </td></tr>\n",
       "\t<tr><td>https://www.nytimes.com/2018/02/13/nyregion/daca-dreamers-injunction-trump.html                        </td></tr>\n",
       "</tbody>\n",
       "</table>\n"
      ],
      "text/latex": [
       "\\begin{tabular}{r|l}\n",
       " DacaData.data.web\\_url\\\\\n",
       "\\hline\n",
       "\t https://www.nytimes.com/reuters/2018/04/02/us/politics/02reuters-usa-trump-tweet-factbox.html          \\\\\n",
       "\t https://www.nytimes.com/reuters/2018/04/01/us/politics/01reuters-usa-trump-tweet-factbox.html          \\\\\n",
       "\t https://www.nytimes.com/reuters/2018/04/01/world/americas/01reuters-usa-immigration.html               \\\\\n",
       "\t https://www.nytimes.com/reuters/2018/04/02/world/americas/02reuters-usa-immigration-daca-explainer.html\\\\\n",
       "\t https://www.nytimes.com/reuters/2018/04/02/us/politics/02reuters-usa-trump-mexico.html                 \\\\\n",
       "\t https://www.nytimes.com/reuters/2018/04/02/world/americas/02reuters-usa-immigration-trump.html         \\\\\n",
       "\t https://www.nytimes.com/2018/04/01/us/politics/trump-immigration-daca.html                             \\\\\n",
       "\t https://www.nytimes.com/2018/02/13/us/politics/trump-twitter-daca-infrastructure.html                  \\\\\n",
       "\t https://www.nytimes.com/2018/03/29/nyregion/daca-lawsuit-trump-brooklyn.html                           \\\\\n",
       "\t https://www.nytimes.com/2018/02/13/nyregion/daca-dreamers-injunction-trump.html                        \\\\\n",
       "\\end{tabular}\n"
      ],
      "text/markdown": [
       "\n",
       "DacaData.data.web_url | \n",
       "|---|---|---|---|---|---|---|---|---|---|\n",
       "| https://www.nytimes.com/reuters/2018/04/02/us/politics/02reuters-usa-trump-tweet-factbox.html           | \n",
       "| https://www.nytimes.com/reuters/2018/04/01/us/politics/01reuters-usa-trump-tweet-factbox.html           | \n",
       "| https://www.nytimes.com/reuters/2018/04/01/world/americas/01reuters-usa-immigration.html                | \n",
       "| https://www.nytimes.com/reuters/2018/04/02/world/americas/02reuters-usa-immigration-daca-explainer.html | \n",
       "| https://www.nytimes.com/reuters/2018/04/02/us/politics/02reuters-usa-trump-mexico.html                  | \n",
       "| https://www.nytimes.com/reuters/2018/04/02/world/americas/02reuters-usa-immigration-trump.html          | \n",
       "| https://www.nytimes.com/2018/04/01/us/politics/trump-immigration-daca.html                              | \n",
       "| https://www.nytimes.com/2018/02/13/us/politics/trump-twitter-daca-infrastructure.html                   | \n",
       "| https://www.nytimes.com/2018/03/29/nyregion/daca-lawsuit-trump-brooklyn.html                            | \n",
       "| https://www.nytimes.com/2018/02/13/nyregion/daca-dreamers-injunction-trump.html                         | \n",
       "\n",
       "\n"
      ],
      "text/plain": [
       "   DacaData.data.web_url                                                                                  \n",
       "1  https://www.nytimes.com/reuters/2018/04/02/us/politics/02reuters-usa-trump-tweet-factbox.html          \n",
       "2  https://www.nytimes.com/reuters/2018/04/01/us/politics/01reuters-usa-trump-tweet-factbox.html          \n",
       "3  https://www.nytimes.com/reuters/2018/04/01/world/americas/01reuters-usa-immigration.html               \n",
       "4  https://www.nytimes.com/reuters/2018/04/02/world/americas/02reuters-usa-immigration-daca-explainer.html\n",
       "5  https://www.nytimes.com/reuters/2018/04/02/us/politics/02reuters-usa-trump-mexico.html                 \n",
       "6  https://www.nytimes.com/reuters/2018/04/02/world/americas/02reuters-usa-immigration-trump.html         \n",
       "7  https://www.nytimes.com/2018/04/01/us/politics/trump-immigration-daca.html                             \n",
       "8  https://www.nytimes.com/2018/02/13/us/politics/trump-twitter-daca-infrastructure.html                  \n",
       "9  https://www.nytimes.com/2018/03/29/nyregion/daca-lawsuit-trump-brooklyn.html                           \n",
       "10 https://www.nytimes.com/2018/02/13/nyregion/daca-dreamers-injunction-trump.html                        "
      ]
     },
     "metadata": {},
     "output_type": "display_data"
    }
   ],
   "source": [
    "library(rtimes)\n",
    "library(magrittr)\n",
    "Sys.setenv(NYTIMES_AS_KEY = \"c777efcf2b3746728883c428cff189c4\")\n",
    "#NYTIMES_AS_KEY= \"c777efcf2b3746728883c428cff189c4\"\n",
    "DacaData <- as_search(q=\"daca\")\n",
    "totalPage <- 19\n",
    "DacaData$meta\n",
    "web_url <- data.frame(DacaData$data$web_url)\n",
    "web_url\n",
    "snippet <- data.frame(DacaData$data$snippet)\n",
    "source <- data.frame(DacaData$data$source)\n",
    "for(i in 0:totalPage){\n",
    "    Sys.sleep(1)\n",
    "    DacaData <- as_search(q=\"daca\", page = i+1)\n",
    "    #print(DacaData)\n",
    "    df <- data.frame(DacaData$data$web_url)\n",
    "    web_url <- rbind(web_url,df) \n",
    "    \n",
    "}\n",
    "\n",
    "write.csv(web_url, file = \"Daca_urls.csv\", row.names=FALSE, na=\"\")\n"
   ]
  },
  {
   "cell_type": "code",
   "execution_count": 27,
   "metadata": {},
   "outputs": [
    {
     "data": {
      "text/html": [
       "<table>\n",
       "<thead><tr><th scope=col>hits</th><th scope=col>offset</th><th scope=col>time</th></tr></thead>\n",
       "<tbody>\n",
       "\t<tr><td>109382</td><td>0     </td><td>37    </td></tr>\n",
       "</tbody>\n",
       "</table>\n"
      ],
      "text/latex": [
       "\\begin{tabular}{r|lll}\n",
       " hits & offset & time\\\\\n",
       "\\hline\n",
       "\t 109382 & 0      & 37    \\\\\n",
       "\\end{tabular}\n"
      ],
      "text/markdown": [
       "\n",
       "hits | offset | time | \n",
       "|---|\n",
       "| 109382 | 0      | 37     | \n",
       "\n",
       "\n"
      ],
      "text/plain": [
       "  hits   offset time\n",
       "1 109382 0      37  "
      ]
     },
     "metadata": {},
     "output_type": "display_data"
    },
    {
     "data": {
      "text/html": [
       "<table>\n",
       "<thead><tr><th scope=col>ImmigrationData.data.web_url</th></tr></thead>\n",
       "<tbody>\n",
       "\t<tr><td>https://www.nytimes.com/2018/02/02/opinion/trump-immigration-dreamers.html                           </td></tr>\n",
       "\t<tr><td>https://www.nytimes.com/2018/01/11/opinion/kasich-bush-immigration-salvadorans.html                  </td></tr>\n",
       "\t<tr><td>https://topics.nytimes.com/topic/subject/immigration                                                 </td></tr>\n",
       "\t<tr><td>https://topics.nytimes.com/top/opinion/immigration/index.html                                        </td></tr>\n",
       "\t<tr><td>https://www.nytimes.com/2018/04/03/us/politics/fact-check-trump-twitter-immigration-policy-.html     </td></tr>\n",
       "\t<tr><td>https://www.nytimes.com/2018/03/20/nyregion/new-york-rensselaer-county-ice-jails.html                </td></tr>\n",
       "\t<tr><td>https://www.nytimes.com/2018/02/28/us/oakland-mayor-ice-warning.html                                 </td></tr>\n",
       "\t<tr><td>https://topics.nytimes.com/top/reference/timestopics/subjects/i/immigration_detention_us/index.html  </td></tr>\n",
       "\t<tr><td>https://topics.nytimes.com/top/reference/timestopics/subjects/i/immigration-and-emigration/index.html</td></tr>\n",
       "\t<tr><td>https://topics.nytimes.com/topic/subject/immigration-detention                                       </td></tr>\n",
       "</tbody>\n",
       "</table>\n"
      ],
      "text/latex": [
       "\\begin{tabular}{r|l}\n",
       " ImmigrationData.data.web\\_url\\\\\n",
       "\\hline\n",
       "\t https://www.nytimes.com/2018/02/02/opinion/trump-immigration-dreamers.html                           \\\\\n",
       "\t https://www.nytimes.com/2018/01/11/opinion/kasich-bush-immigration-salvadorans.html                  \\\\\n",
       "\t https://topics.nytimes.com/topic/subject/immigration                                                 \\\\\n",
       "\t https://topics.nytimes.com/top/opinion/immigration/index.html                                        \\\\\n",
       "\t https://www.nytimes.com/2018/04/03/us/politics/fact-check-trump-twitter-immigration-policy-.html     \\\\\n",
       "\t https://www.nytimes.com/2018/03/20/nyregion/new-york-rensselaer-county-ice-jails.html                \\\\\n",
       "\t https://www.nytimes.com/2018/02/28/us/oakland-mayor-ice-warning.html                                 \\\\\n",
       "\t https://topics.nytimes.com/top/reference/timestopics/subjects/i/immigration\\_detention\\_us/index.html  \\\\\n",
       "\t https://topics.nytimes.com/top/reference/timestopics/subjects/i/immigration-and-emigration/index.html\\\\\n",
       "\t https://topics.nytimes.com/topic/subject/immigration-detention                                       \\\\\n",
       "\\end{tabular}\n"
      ],
      "text/markdown": [
       "\n",
       "ImmigrationData.data.web_url | \n",
       "|---|---|---|---|---|---|---|---|---|---|\n",
       "| https://www.nytimes.com/2018/02/02/opinion/trump-immigration-dreamers.html                            | \n",
       "| https://www.nytimes.com/2018/01/11/opinion/kasich-bush-immigration-salvadorans.html                   | \n",
       "| https://topics.nytimes.com/topic/subject/immigration                                                  | \n",
       "| https://topics.nytimes.com/top/opinion/immigration/index.html                                         | \n",
       "| https://www.nytimes.com/2018/04/03/us/politics/fact-check-trump-twitter-immigration-policy-.html      | \n",
       "| https://www.nytimes.com/2018/03/20/nyregion/new-york-rensselaer-county-ice-jails.html                 | \n",
       "| https://www.nytimes.com/2018/02/28/us/oakland-mayor-ice-warning.html                                  | \n",
       "| https://topics.nytimes.com/top/reference/timestopics/subjects/i/immigration_detention_us/index.html   | \n",
       "| https://topics.nytimes.com/top/reference/timestopics/subjects/i/immigration-and-emigration/index.html | \n",
       "| https://topics.nytimes.com/topic/subject/immigration-detention                                        | \n",
       "\n",
       "\n"
      ],
      "text/plain": [
       "   ImmigrationData.data.web_url                                                                         \n",
       "1  https://www.nytimes.com/2018/02/02/opinion/trump-immigration-dreamers.html                           \n",
       "2  https://www.nytimes.com/2018/01/11/opinion/kasich-bush-immigration-salvadorans.html                  \n",
       "3  https://topics.nytimes.com/topic/subject/immigration                                                 \n",
       "4  https://topics.nytimes.com/top/opinion/immigration/index.html                                        \n",
       "5  https://www.nytimes.com/2018/04/03/us/politics/fact-check-trump-twitter-immigration-policy-.html     \n",
       "6  https://www.nytimes.com/2018/03/20/nyregion/new-york-rensselaer-county-ice-jails.html                \n",
       "7  https://www.nytimes.com/2018/02/28/us/oakland-mayor-ice-warning.html                                 \n",
       "8  https://topics.nytimes.com/top/reference/timestopics/subjects/i/immigration_detention_us/index.html  \n",
       "9  https://topics.nytimes.com/top/reference/timestopics/subjects/i/immigration-and-emigration/index.html\n",
       "10 https://topics.nytimes.com/topic/subject/immigration-detention                                       "
      ]
     },
     "metadata": {},
     "output_type": "display_data"
    }
   ],
   "source": [
    "library(rtimes)\n",
    "library(magrittr)\n",
    "Sys.setenv(NYTIMES_AS_KEY = \"c777efcf2b3746728883c428cff189c4\")\n",
    "#NYTIMES_AS_KEY= \"c777efcf2b3746728883c428cff189c4\"\n",
    "ImmigrationData <- as_search(q=\"immigration\")\n",
    "totalPage <- 19\n",
    "ImmigrationData$meta\n",
    "web_url <- data.frame(ImmigrationData$data$web_url)\n",
    "web_url\n",
    "snippet <- data.frame(ImmigrationData$data$snippet)\n",
    "source <- data.frame(ImmigrationData$data$source)\n",
    "for(i in 0:totalPage){\n",
    "    Sys.sleep(1)\n",
    "    ImmigrationData <- as_search(q=\"immigration\", page = i+1)\n",
    "    #print(ImmigrationData)\n",
    "    df <- data.frame(ImmigrationData$data$web_url)\n",
    "    web_url <- rbind(web_url,df) \n",
    "    \n",
    "}\n",
    "\n",
    "write.csv(web_url, file = \"Immigration_urls.csv\", row.names=FALSE, na=\"\")\n"
   ]
  },
  {
   "cell_type": "code",
   "execution_count": 28,
   "metadata": {},
   "outputs": [
    {
     "data": {
      "text/html": [
       "<table>\n",
       "<thead><tr><th scope=col>hits</th><th scope=col>offset</th><th scope=col>time</th></tr></thead>\n",
       "<tbody>\n",
       "\t<tr><td>31362</td><td>0    </td><td>13   </td></tr>\n",
       "</tbody>\n",
       "</table>\n"
      ],
      "text/latex": [
       "\\begin{tabular}{r|lll}\n",
       " hits & offset & time\\\\\n",
       "\\hline\n",
       "\t 31362 & 0     & 13   \\\\\n",
       "\\end{tabular}\n"
      ],
      "text/markdown": [
       "\n",
       "hits | offset | time | \n",
       "|---|\n",
       "| 31362 | 0     | 13    | \n",
       "\n",
       "\n"
      ],
      "text/plain": [
       "  hits  offset time\n",
       "1 31362 0      13  "
      ]
     },
     "metadata": {},
     "output_type": "display_data"
    },
    {
     "data": {
      "text/html": [
       "<table>\n",
       "<thead><tr><th scope=col>VisaData.data.web_url</th></tr></thead>\n",
       "<tbody>\n",
       "\t<tr><td>https://topics.nytimes.com/top/news/business/companies/visa_inc/index.html                             </td></tr>\n",
       "\t<tr><td>https://topics.nytimes.com/topic/company/visa-inc                                                      </td></tr>\n",
       "\t<tr><td>https://www.nytimes.com/2018/02/23/opinion/visa-regime-travel-immigration-trump.html                   </td></tr>\n",
       "\t<tr><td>https://www.nytimes.com/aponline/2018/04/03/us/ap-us-saipan-visa-changes.html                          </td></tr>\n",
       "\t<tr><td>https://www.nytimes.com/reuters/2018/03/30/us/30reuters-usa-immigration-visa.html                      </td></tr>\n",
       "\t<tr><td>https://www.nytimes.com/aponline/2018/03/29/us/politics/ap-us-united-states-visas.html                 </td></tr>\n",
       "\t<tr><td>https://www.nytimes.com/reuters/2018/03/29/world/middleeast/29reuters-usa-immigration-travelban.html   </td></tr>\n",
       "\t<tr><td>https://www.nytimes.com/2018/01/17/nyregion/immigrants-visa-yemen.html                                 </td></tr>\n",
       "\t<tr><td>https://www.nytimes.com/2018/03/04/us/melania-trump-einstein-visa.html                                 </td></tr>\n",
       "\t<tr><td>https://www.nytimes.com/reuters/2018/03/28/world/europe/28reuters-hungary-election-residency-syria.html</td></tr>\n",
       "</tbody>\n",
       "</table>\n"
      ],
      "text/latex": [
       "\\begin{tabular}{r|l}\n",
       " VisaData.data.web\\_url\\\\\n",
       "\\hline\n",
       "\t https://topics.nytimes.com/top/news/business/companies/visa\\_inc/index.html                             \\\\\n",
       "\t https://topics.nytimes.com/topic/company/visa-inc                                                      \\\\\n",
       "\t https://www.nytimes.com/2018/02/23/opinion/visa-regime-travel-immigration-trump.html                   \\\\\n",
       "\t https://www.nytimes.com/aponline/2018/04/03/us/ap-us-saipan-visa-changes.html                          \\\\\n",
       "\t https://www.nytimes.com/reuters/2018/03/30/us/30reuters-usa-immigration-visa.html                      \\\\\n",
       "\t https://www.nytimes.com/aponline/2018/03/29/us/politics/ap-us-united-states-visas.html                 \\\\\n",
       "\t https://www.nytimes.com/reuters/2018/03/29/world/middleeast/29reuters-usa-immigration-travelban.html   \\\\\n",
       "\t https://www.nytimes.com/2018/01/17/nyregion/immigrants-visa-yemen.html                                 \\\\\n",
       "\t https://www.nytimes.com/2018/03/04/us/melania-trump-einstein-visa.html                                 \\\\\n",
       "\t https://www.nytimes.com/reuters/2018/03/28/world/europe/28reuters-hungary-election-residency-syria.html\\\\\n",
       "\\end{tabular}\n"
      ],
      "text/markdown": [
       "\n",
       "VisaData.data.web_url | \n",
       "|---|---|---|---|---|---|---|---|---|---|\n",
       "| https://topics.nytimes.com/top/news/business/companies/visa_inc/index.html                              | \n",
       "| https://topics.nytimes.com/topic/company/visa-inc                                                       | \n",
       "| https://www.nytimes.com/2018/02/23/opinion/visa-regime-travel-immigration-trump.html                    | \n",
       "| https://www.nytimes.com/aponline/2018/04/03/us/ap-us-saipan-visa-changes.html                           | \n",
       "| https://www.nytimes.com/reuters/2018/03/30/us/30reuters-usa-immigration-visa.html                       | \n",
       "| https://www.nytimes.com/aponline/2018/03/29/us/politics/ap-us-united-states-visas.html                  | \n",
       "| https://www.nytimes.com/reuters/2018/03/29/world/middleeast/29reuters-usa-immigration-travelban.html    | \n",
       "| https://www.nytimes.com/2018/01/17/nyregion/immigrants-visa-yemen.html                                  | \n",
       "| https://www.nytimes.com/2018/03/04/us/melania-trump-einstein-visa.html                                  | \n",
       "| https://www.nytimes.com/reuters/2018/03/28/world/europe/28reuters-hungary-election-residency-syria.html | \n",
       "\n",
       "\n"
      ],
      "text/plain": [
       "   VisaData.data.web_url                                                                                  \n",
       "1  https://topics.nytimes.com/top/news/business/companies/visa_inc/index.html                             \n",
       "2  https://topics.nytimes.com/topic/company/visa-inc                                                      \n",
       "3  https://www.nytimes.com/2018/02/23/opinion/visa-regime-travel-immigration-trump.html                   \n",
       "4  https://www.nytimes.com/aponline/2018/04/03/us/ap-us-saipan-visa-changes.html                          \n",
       "5  https://www.nytimes.com/reuters/2018/03/30/us/30reuters-usa-immigration-visa.html                      \n",
       "6  https://www.nytimes.com/aponline/2018/03/29/us/politics/ap-us-united-states-visas.html                 \n",
       "7  https://www.nytimes.com/reuters/2018/03/29/world/middleeast/29reuters-usa-immigration-travelban.html   \n",
       "8  https://www.nytimes.com/2018/01/17/nyregion/immigrants-visa-yemen.html                                 \n",
       "9  https://www.nytimes.com/2018/03/04/us/melania-trump-einstein-visa.html                                 \n",
       "10 https://www.nytimes.com/reuters/2018/03/28/world/europe/28reuters-hungary-election-residency-syria.html"
      ]
     },
     "metadata": {},
     "output_type": "display_data"
    }
   ],
   "source": [
    "library(rtimes)\n",
    "library(magrittr)\n",
    "Sys.setenv(NYTIMES_AS_KEY = \"c777efcf2b3746728883c428cff189c4\")\n",
    "#NYTIMES_AS_KEY= \"c777efcf2b3746728883c428cff189c4\"\n",
    "VisaData <- as_search(q=\"visa\")\n",
    "totalPage <- 19\n",
    "VisaData$meta\n",
    "web_url <- data.frame(VisaData$data$web_url)\n",
    "web_url\n",
    "snippet <- data.frame(VisaData$data$snippet)\n",
    "source <- data.frame(VisaData$data$source)\n",
    "for(i in 0:totalPage){\n",
    "    Sys.sleep(1)\n",
    "    VisaData <- as_search(q=\"visa\", page = i+1)\n",
    "    #print(VisaData)\n",
    "    df <- data.frame(VisaData$data$web_url)\n",
    "    web_url <- rbind(web_url,df) \n",
    "    \n",
    "}\n",
    "\n",
    "write.csv(web_url, file = \"Visa_urls.csv\", row.names=FALSE, na=\"\")\n"
   ]
  },
  {
   "cell_type": "code",
   "execution_count": null,
   "metadata": {
    "collapsed": true
   },
   "outputs": [],
   "source": []
  }
 ],
 "metadata": {
  "kernelspec": {
   "display_name": "R",
   "language": "R",
   "name": "ir"
  },
  "language_info": {
   "codemirror_mode": "r",
   "file_extension": ".r",
   "mimetype": "text/x-r-source",
   "name": "R",
   "pygments_lexer": "r",
   "version": "3.4.2"
  }
 },
 "nbformat": 4,
 "nbformat_minor": 2
}

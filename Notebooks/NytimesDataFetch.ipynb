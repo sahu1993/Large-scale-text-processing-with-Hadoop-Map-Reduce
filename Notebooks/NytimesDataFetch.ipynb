{
 "cells": [
  {
   "cell_type": "code",
   "execution_count": null,
   "metadata": {
    "collapsed": true
   },
   "outputs": [],
   "source": [
    "#Name - Shivam Sahu\n",
    "#team member’s Name - N/A\n",
    "\n",
    "from csv import DictReader\n",
    "import csv\n",
    "import urllib\n",
    "\n",
    "import nltk\n",
    "from nltk.tokenize import RegexpTokenizer\n",
    "from nltk.corpus import stopwords\n",
    "\n",
    "import urllib2\n",
    "from bs4 import BeautifulSoup\n",
    "\n",
    "with open(\"Daca_urls.csv\") as f:\n",
    "    urls = [row[\"DacaData.data.web_url\"] for row in DictReader(f)]\n",
    "    \n",
    "filename = \"Nytimes_Daca.txt\"\n",
    "nyData = open(filename,\"a\")\n",
    "#print file\n",
    "\n",
    "for url in urls:\n",
    "    #print url\n",
    "    page = urllib2.urlopen(url).read()\n",
    "    soup = BeautifulSoup(page,'html.parser')\n",
    "    ptags = soup.find_all(\"p\",text=True)   \n",
    "    for par in ptags:\n",
    "        #print(type(par.get_text(strip=True)))\n",
    "        nyData.write((par.get_text(strip=True)).encode('utf8'))"
   ]
  },
  {
   "cell_type": "code",
   "execution_count": null,
   "metadata": {
    "collapsed": true
   },
   "outputs": [],
   "source": [
    "from csv import DictReader\n",
    "import csv\n",
    "import urllib\n",
    "\n",
    "import nltk\n",
    "from nltk.tokenize import RegexpTokenizer\n",
    "from nltk.corpus import stopwords\n",
    "\n",
    "import urllib2\n",
    "from bs4 import BeautifulSoup\n",
    "\n",
    "with open(\"Immigration_urls.csv\") as f:\n",
    "    urls = [row[\"ImmigrationData.data.web_url\"] for row in DictReader(f)]\n",
    "    \n",
    "filename = \"Nytimes_Immigration.txt\"\n",
    "nyData = open(filename,\"a\")\n",
    "#print file\n",
    "\n",
    "for url in urls:\n",
    "    #print url\n",
    "    try: \n",
    "        page = urllib2.urlopen(url).read()\n",
    "    except Exception:\n",
    "        print \" \"\n",
    "    soup = BeautifulSoup(page,'html.parser')\n",
    "    ptags = soup.find_all(\"p\",text=True)   \n",
    "    for par in ptags:\n",
    "        #print(type(par.get_text(strip=True)))\n",
    "        nyData.write((par.get_text(strip=True)).encode('utf8'))"
   ]
  },
  {
   "cell_type": "code",
   "execution_count": null,
   "metadata": {
    "collapsed": true
   },
   "outputs": [],
   "source": [
    "from csv import DictReader\n",
    "import csv\n",
    "import urllib\n",
    "\n",
    "import nltk\n",
    "from nltk.tokenize import RegexpTokenizer\n",
    "from nltk.corpus import stopwords\n",
    "\n",
    "import urllib2\n",
    "from bs4 import BeautifulSoup\n",
    "\n",
    "with open(\"Visa_urls.csv\") as f:\n",
    "    urls = [row[\"VisaData.data.web_url\"] for row in DictReader(f)]\n",
    "    \n",
    "filename = \"Nytimes_Visa.txt\"\n",
    "nyData = open(filename,\"a\")\n",
    "#print file\n",
    "\n",
    "for url in urls:\n",
    "    #print url\n",
    "    try: \n",
    "        page = urllib2.urlopen(url).read()\n",
    "    except Exception:\n",
    "        print \" \"\n",
    "    soup = BeautifulSoup(page,'html.parser')\n",
    "    ptags = soup.find_all(\"p\",text=True)   \n",
    "    for par in ptags:\n",
    "        #print(type(par.get_text(strip=True)))\n",
    "        nyData.write((par.get_text(strip=True)).encode('utf8'))"
   ]
  }
 ],
 "metadata": {
  "kernelspec": {
   "display_name": "Python 2",
   "language": "python",
   "name": "python2"
  },
  "language_info": {
   "codemirror_mode": {
    "name": "ipython",
    "version": 2
   },
   "file_extension": ".py",
   "mimetype": "text/x-python",
   "name": "python",
   "nbconvert_exporter": "python",
   "pygments_lexer": "ipython2",
   "version": "2.7.14"
  }
 },
 "nbformat": 4,
 "nbformat_minor": 2
}
